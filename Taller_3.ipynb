{
  "nbformat": 4,
  "nbformat_minor": 0,
  "metadata": {
    "colab": {
      "provenance": []
    },
    "kernelspec": {
      "name": "python3",
      "display_name": "Python 3"
    },
    "language_info": {
      "name": "python"
    }
  },
  "cells": [
    {
      "cell_type": "markdown",
      "source": [
        "# Operaciones con polinomios en Python\n",
        "Acontinuacion analizaremos dos tipos de operaciones con polinomios los cuales son:\n",
        "\n",
        "- Suma\n",
        "- Multiplicación \n"
      ],
      "metadata": {
        "id": "yA9_pXZT4oTG"
      }
    },
    {
      "cell_type": "markdown",
      "source": [
        "Lo primero que haremos es importar la biblioteca numpy \n"
      ],
      "metadata": {
        "id": "exB98GtT_fP6"
      }
    },
    {
      "cell_type": "code",
      "source": [
        "import numpy as np"
      ],
      "metadata": {
        "id": "CD52Dn8eCIHQ"
      },
      "execution_count": 4,
      "outputs": []
    },
    {
      "cell_type": "markdown",
      "source": [
        "### El codigo utilizado para la suma de polinomios es el siguiente:"
      ],
      "metadata": {
        "id": "fbCK9-jxC9DH"
      }
    },
    {
      "cell_type": "code",
      "source": [
        "# Solicitar la cantidad de polinomios a sumar\n",
        "n = int(input(\"Ingrese la cantidad de polinomios a sumar: \"))\n",
        "\n",
        "# Crear una lista para almacenar los coeficientes de cada polinomio\n",
        "polinomios = []\n",
        "\n",
        "# Solicitar los coeficientes de cada polinomio\n",
        "for i in range(n):\n",
        "    coeficientes = []\n",
        "    # la funcion que cumple \"f\" es evaluar la variable {i+1} mendiante el \"for\" \n",
        "    grado = int(input(f\"Ingrese el grado del polinomio {i+1}: \"))\n",
        "    for j in range(grado+1):\n",
        "        coeficiente = float(input(f\"Ingrese el coeficiente de x^{j}: \"))\n",
        "        coeficientes.append(coeficiente)\n",
        "    polinomios.append(coeficientes)\n",
        "# Hallar el mayor grado entre los polinomios\n",
        "max_grado = 0\n",
        "for polinomio in polinomios:\n",
        "    grado = len(polinomio)\n",
        "    if grado > max_grado:\n",
        "        max_grado = grado\n",
        "\n",
        "# Sumar los polinomios\n",
        "suma = []\n",
        "for i in range(max_grado):\n",
        "    coeficiente_suma = 0\n",
        "    for j in range(n):\n",
        "        if i < len(polinomios[j]):\n",
        "            coeficiente_suma += polinomios[j][i]\n",
        "    suma.append(coeficiente_suma)\n",
        "\n",
        "# Imprimir el resultado\n",
        "print(\"La suma de los polinomios es:\")\n",
        "for i in range(len(suma)):\n",
        "        # la funcion de \"end=\" es dejar un espacio para cada resultado del bucle en una linea \n",
        "        print(f\"{suma[i]}x^{i}\", end=\" + \")"
      ],
      "metadata": {
        "id": "oIG9NDSoDbzt"
      },
      "execution_count": null,
      "outputs": []
    },
    {
      "cell_type": "markdown",
      "source": [
        "### El codigo utilizado para la multiplicacion de dos polinomios es:"
      ],
      "metadata": {
        "id": "2W908XfMyPnv"
      }
    },
    {
      "cell_type": "code",
      "source": [
        "# Pedir los coeficientes del primer polinomio\n",
        "grado1 = int(input(\"Ingrese el grado del primer polinomio: \"))\n",
        "polinomio1 = []\n",
        "for i in range(grado1 + 1):\n",
        "    coef = float(input(f\"Ingrese el coeficiente de x^{i}: \"))\n",
        "    polinomio1.append(coef)\n",
        "\n",
        "# Pedir los coeficientes del segundo polinomio\n",
        "grado2 = int(input(\"Ingrese el grado del segundo polinomio: \"))\n",
        "polinomio2 = []\n",
        "for i in range(grado2 + 1):\n",
        "    coef = float(input(f\"Ingrese el coeficiente de x^{i}: \"))\n",
        "    polinomio2.append(coef)\n",
        "\n",
        "# Realizar la multiplicación de los dos polinomios\n",
        "resultado = [0] * (grado1 + grado2 + 1)\n",
        "for i in range(grado1 + 1):\n",
        "    for j in range(grado2 + 1):\n",
        "        resultado[i+j] += polinomio1[i] * polinomio2[j]\n",
        "\n",
        "# Imprimir el resultado\n",
        "print(\"El resultado de la multiplicación es:\")\n",
        "for i in range(len(resultado)):\n",
        "    print(f\"{resultado[i]}x^{i}\", end=\" + \")\n"
      ],
      "metadata": {
        "id": "XL0s6sBJycWi"
      },
      "execution_count": null,
      "outputs": []
    },
    {
      "cell_type": "markdown",
      "source": [
        "### El codigo utilizado para multiplicar un escalar por un polinomio es:"
      ],
      "metadata": {
        "id": "jTGIn7dSy3sh"
      }
    },
    {
      "cell_type": "code",
      "source": [
        "# Pedir los coeficientes del polinomio\n",
        "grado = int(input(\"Ingrese el grado del polinomio: \"))\n",
        "polinomio = []\n",
        "for i in range(grado + 1):\n",
        "    coef = float(input(f\"Ingrese el coeficiente de x^{i}: \"))\n",
        "    polinomio.append(coef)\n",
        "\n",
        "escalar=float(input(\"Digite el numero escalar a multiplicar: \"))\n",
        "\n",
        "resultado=[]\n",
        "\n",
        "for k in range(len(polinomio)):\n",
        "    resultado.append(escalar *polinomio[k])\n",
        "    \n",
        "print(\"El resultado de multiplicar el escalar por el polinomio: \")\n",
        "for i in range(len(resultado)):\n",
        "  print(f\"{resultado[i]}x^{i}\", end=\" + \")"
      ],
      "metadata": {
        "id": "N8hE3qUOzGdB"
      },
      "execution_count": null,
      "outputs": []
    }
  ]
}