{
  "nbformat": 4,
  "nbformat_minor": 0,
  "metadata": {
    "colab": {
      "provenance": []
    },
    "kernelspec": {
      "name": "python3",
      "display_name": "Python 3"
    },
    "language_info": {
      "name": "python"
    }
  },
  "cells": [
    {
      "cell_type": "markdown",
      "source": [
        "# Operaciones con polinomios en Python\n",
        "Acontinuacion analizaremos dos tipos de operaciones con polinomios los cuales son:\n",
        "\n",
        "- Suma\n",
        "- Multiplicación \n",
        "\n",
        "Ademas miraremos el metodo de horner\n"
      ],
      "metadata": {
        "id": "yA9_pXZT4oTG"
      }
    },
    {
      "cell_type": "markdown",
      "source": [
        "Lo primero que haremos es importar la biblioteca numpy \n"
      ],
      "metadata": {
        "id": "exB98GtT_fP6"
      }
    },
    {
      "cell_type": "code",
      "source": [
        "import numpy as np"
      ],
      "metadata": {
        "id": "CD52Dn8eCIHQ"
      },
      "execution_count": 20,
      "outputs": []
    },
    {
      "cell_type": "markdown",
      "source": [
        "## Suma de dos o más polinomios \n",
        "### Explicacion del programa:\n",
        "El código creado en Python permite sumar una cantidad n de polinomios ingresados por el usuario. Primero, se solicita al usuario que ingrese la cantidad de polinomios que se desea sumar y se crea una lista \"polinomios\" para almacenar los coeficientes de cada polinomio. Luego, el programa utiliza un bucle para solicitar los coeficientes de cada polinomio, ingresando el grado y los coeficientes de cada término del polinomio y almacenando los coeficientes en una lista que se agrega a la lista \"polinomios\".\n",
        "\n",
        "El programa luego encuentra el grado más alto entre los polinomios, recorriendo la lista \"polinomios\" y almacenando el valor de grado más alto en la variable \"max_grado\". A continuación, el programa utiliza dos bucles anidados para sumar los coeficientes correspondientes de cada término de los polinomios, almacenando los resultados en una lista \"suma\".\n",
        "\n",
        "Finalmente, el programa muestra el resultado de la suma de los polinomios en forma de polinomio, recorriendo la lista \"suma\" y mostrando cada término del polinomio en orden ascendente de grado, seguido de un signo más (+) y un espacio en blanco.\n",
        "\n",
        "En resumen, el programa funciona sumando los coeficientes correspondientes de cada término de los polinomios ingresados por el usuario y almacenando los resultados en una lista \"suma\", luego muestra el resultado de la suma en forma de polinomio recorriendo la lista \"suma\" y mostrando cada término del polinomio en orden ascendente de grado, seguido de un signo más (+) y un espacio en blanco."
      ],
      "metadata": {
        "id": "fbCK9-jxC9DH"
      }
    },
    {
      "cell_type": "code",
      "source": [
        "# Solicitar la cantidad de polinomios a sumar\n",
        "n = int(input(\"Ingrese la cantidad de polinomios a sumar: \"))\n",
        "\n",
        "# Crear una lista para almacenar los coeficientes de cada polinomio\n",
        "polinomios = [] \n",
        "\n",
        "# Solicitar los coeficientes de cada polinomio\n",
        "for i in range(n):\n",
        "    coeficientes = []\n",
        "    # la funcion que cumple \"f\" es evaluar la variable {i+1} mendiante el \"for\" \n",
        "    grado = int(input(f\"Ingrese el grado del polinomio {i+1}: \"))\n",
        "    for j in range(grado+1):\n",
        "        coeficiente = float(input(f\"Ingrese el coeficiente de x^{j}: \"))\n",
        "        coeficientes.append(coeficiente)\n",
        "    polinomios.append(coeficientes)\n",
        "# Hallar el mayor grado entre los polinomios\n",
        "max_grado = 0\n",
        "for polinomio in polinomios:\n",
        "    grado = len(polinomio)\n",
        "    if grado > max_grado:\n",
        "        max_grado = grado\n",
        "\n",
        "# Sumar los polinomios\n",
        "suma = []\n",
        "for i in range(max_grado):\n",
        "    coeficiente_suma = 0\n",
        "    for j in range(n):\n",
        "        if i < len(polinomios[j]):\n",
        "            coeficiente_suma += polinomios[j][i]\n",
        "    suma.append(coeficiente_suma)\n",
        "\n",
        "# Imprimir el resultado\n",
        "print(\"La suma de los polinomios es:\")\n",
        "for i in range(len(suma)):\n",
        "        # la funcion de \"end=\" es dejar un espacio para cada resultado del bucle en una linea \n",
        "        print(f\"{suma[i]}x^{i}\", end=\" + \")"
      ],
      "metadata": {
        "id": "oIG9NDSoDbzt"
      },
      "execution_count": null,
      "outputs": []
    },
    {
      "cell_type": "markdown",
      "source": [
        "## Multiplicacion de dos polinomios\n",
        "### Explicacion del programa:\n",
        "Este código en Python calcula el producto de dos polinomios ingresados por el usuario. En primer lugar, se pide al usuario que ingrese el grado del primer polinomio y luego se solicitan los coeficientes del polinomio en orden descendente de grado, almacenándolos en una lista llamada \"polinomio1\". Luego se repite el mismo proceso para el segundo polinomio, almacenando los coeficientes en una lista llamada \"polinomio2\".\n",
        "\n",
        "A continuación, se crea una lista \"resultado\" con una longitud igual a la suma de los grados de ambos polinomios más uno. Se inicializa con todos los elementos iguales a cero. Luego se utiliza un bucle anidado para recorrer todos los términos de ambos polinomios y se realiza la multiplicación de cada término. El resultado de la multiplicación se agrega al elemento correspondiente en la lista \"resultado\" según el grado del término.\n",
        "\n",
        "Finalmente, el programa muestra el resultado de la multiplicación en forma de polinomio, recorriendo la lista de resultados y mostrando cada término del polinomio en orden ascendente de grado, seguido de un signo más (+) y un espacio en blanco.\n",
        "\n",
        "En resumen, el programa funciona al realizar la multiplicación de dos polinomios ingresados por el usuario, utilizando una lista \"resultado\" para almacenar el resultado de la multiplicación de cada término. El programa luego muestra el resultado de la multiplicación en forma de polinomio, recorriendo la lista de resultados y mostrando cada término del polinomio en orden ascendente de grado, seguido de un signo más (+) y un espacio en blanco."
      ],
      "metadata": {
        "id": "2W908XfMyPnv"
      }
    },
    {
      "cell_type": "code",
      "source": [
        "# Pedir los coeficientes del primer polinomio\n",
        "grado1 = int(input(\"Ingrese el grado del primer polinomio: \"))\n",
        "polinomio1 = []\n",
        "for i in range(grado1 + 1):\n",
        "    coef = float(input(f\"Ingrese el coeficiente de x^{i}: \"))\n",
        "    polinomio1.append(coef)\n",
        "\n",
        "# Pedir los coeficientes del segundo polinomio\n",
        "grado2 = int(input(\"Ingrese el grado del segundo polinomio: \"))\n",
        "polinomio2 = []\n",
        "for i in range(grado2 + 1):\n",
        "    coef = float(input(f\"Ingrese el coeficiente de x^{i}: \"))\n",
        "    polinomio2.append(coef)\n",
        "\n",
        "# Realizar la multiplicación de los dos polinomios\n",
        "resultado = [0] * (grado1 + grado2 + 1)\n",
        "for i in range(grado1 + 1):\n",
        "    for j in range(grado2 + 1):\n",
        "        resultado[i+j] += polinomio1[i] * polinomio2[j]\n",
        "\n",
        "# Imprimir el resultado\n",
        "print(\"El resultado de la multiplicación es:\")\n",
        "for i in range(len(resultado)):\n",
        "    print(f\"({resultado[i]}x^{i})\", end=\" + \")\n"
      ],
      "metadata": {
        "id": "XL0s6sBJycWi"
      },
      "execution_count": null,
      "outputs": []
    },
    {
      "cell_type": "markdown",
      "source": [
        "## Multiplicacion de escalar por un polinomios\n",
        "### Explicacion del codigo:\n",
        "El código en Python comienza pidiéndole al usuario que ingrese el grado del polinomio, el cual se almacena en la variable \"grado\". A continuación, se crea una lista vacía llamada \"polinomio\" que será utilizada para almacenar los coeficientes del polinomio.\n",
        "\n",
        "Luego, se utiliza un bucle \"for\" para pedirle al usuario que ingrese los coeficientes del polinomio en orden descendente de grado. El bucle recorre todos los grados del polinomio, desde el grado cero hasta el grado \"grado\", y para cada grado, solicita al usuario que ingrese el coeficiente correspondiente utilizando el método \"input\". Los coeficientes ingresados se convierten en números de punto flotante utilizando el método \"float\" y se agregan a la lista \"polinomio\" mediante el método \"append\".\n",
        "\n",
        "A continuación, se solicita al usuario que ingrese un número escalar, que se almacena en la variable \"escalar\". Se crea una nueva lista vacía llamada \"resultado\" que se utilizará para almacenar los resultados de la multiplicación del polinomio por el escalar.\n",
        "\n",
        "Luego, se utiliza otro bucle \"for\" para recorrer todos los coeficientes del polinomio y multiplicarlos por el escalar. En cada iteración del bucle, se toma el coeficiente correspondiente de la lista \"polinomio\" y se multiplica por el escalar, y el resultado se agrega a la lista \"resultado\" mediante el método \"append\".\n",
        "\n",
        "Finalmente, el programa muestra el resultado de la multiplicación en forma de polinomio, utilizando otro bucle \"for\" para recorrer todos los términos del polinomio en la lista \"resultado\". En cada iteración, se muestra el término correspondiente del polinomio en formato \"$(coeficiente)x^{grado}$\", seguido de un signo más (+) y un espacio en blanco. El parámetro \"end\" del método \"print\" se establece en \"+ \" para que no se muestre un salto de línea después del último término del polinomio."
      ],
      "metadata": {
        "id": "jTGIn7dSy3sh"
      }
    },
    {
      "cell_type": "code",
      "source": [
        "# Pedir los coeficientes del polinomio\n",
        "grado = int(input(\"Ingrese el grado del polinomio: \"))\n",
        "polinomio = []\n",
        "for i in range(grado + 1):\n",
        "    coef = float(input(f\"Ingrese el coeficiente de x^{i}: \"))\n",
        "    polinomio.append(coef)\n",
        "# pedir el escalar\n",
        "escalar=float(input(\"Digite el numero escalar a multiplicar: \"))\n",
        "# Crear una lista para almacenar los coeficientes de la multiplicacion del escalar por el polinomio\n",
        "resultado=[]\n",
        "\n",
        "for k in range(len(polinomio)):\n",
        "    resultado.append(escalar *polinomio[k])\n",
        "# imprime los coeficientes obtenidos \n",
        "print(\"El resultado de multiplicar el escalar por el polinomio: \")\n",
        "for i in range(len(resultado)):\n",
        "  print(f\"({resultado[i]}x^{i})\", end=\" + \")"
      ],
      "metadata": {
        "id": "N8hE3qUOzGdB"
      },
      "execution_count": null,
      "outputs": []
    },
    {
      "cell_type": "markdown",
      "source": [
        "## Metodo de horner\n",
        "\n",
        "\n",
        "El método de Horner comienza tomando el coeficiente del término de mayor grado del polinomio y lo multiplica por el valor de la variable $x$. A continuación, se suma el coeficiente del siguiente término de menor grado y se multiplica el resultado por $x$, y así sucesivamente, hasta que se llega al término independiente. \n",
        "$$a_0+x(a_1+x(a_2+x(a_3+···+x(a_{n-1}+a_nx)···)))$$\n",
        "\n",
        "El método de Horner se utiliza comúnmente en el cálculo numérico y en la resolución de ecuaciones algebraicas y diferenciales. Es particularmente útil en casos donde el grado del polinomio es muy alto y la evaluación directa del polinomio sería computacionalmente costosa.\n"
      ],
      "metadata": {
        "id": "2ZJ_9xkfZhaT"
      }
    },
    {
      "cell_type": "code",
      "source": [
        "\n",
        "# pedir grado del polinomio\n",
        "grado = int(input(\"Ingrese el grado del polinomio: \"))\n",
        "# Crea un vector vacio\n",
        "p = np.empty(grado +1)\n",
        "\n",
        "for i in range(grado +1):\n",
        "    p[i] = input(f\"Ingrese el coeficiente de x^{i}: \")\n",
        "# pedir un valor a evaluar\n",
        "x = float(input(\"Ingrese el valor a evaluar: \"))\n",
        "\n",
        "nueva= p[grado]\n",
        "\n",
        "for i in range(grado-1,-1,-1):\n",
        "    nueva = x * nueva + p[i]\n",
        "# imprimir el valor resultante de evaluar x en la funcion de coeficientes dada\n",
        "print(f\"El valor de P({x}) es: \", nueva)"
      ],
      "metadata": {
        "id": "eofcQFBWda7A"
      },
      "execution_count": null,
      "outputs": []
    }
  ]
}